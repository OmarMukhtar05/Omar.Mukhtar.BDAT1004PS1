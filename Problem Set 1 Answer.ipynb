{
 "cells": [
  {
   "cell_type": "markdown",
   "id": "14afbb06",
   "metadata": {},
   "source": [
    "# Problem Set 1\n"
   ]
  },
  {
   "cell_type": "markdown",
   "id": "edd6ad79",
   "metadata": {},
   "source": [
    "### Question 1 Answer"
   ]
  },
  {
   "cell_type": "code",
   "execution_count": 3,
   "id": "2a324b07",
   "metadata": {},
   "outputs": [
    {
     "name": "stdout",
     "output_type": "stream",
     "text": [
      "<class 'int'>\n",
      "<class 'float'>\n",
      "<class 'bool'>\n",
      "<class 'str'>\n",
      "<class 'int'>\n",
      "<class 'str'>\n",
      "<class 'str'>\n",
      "<class 'float'>\n",
      "<class 'int'>\n",
      "<class 'set'>\n",
      "<class 'bool'>\n",
      "<class 'float'>\n"
     ]
    }
   ],
   "source": [
    "print(type(5))\n",
    "print(type(5.0))\n",
    "print(type(5 > 1))\n",
    "print(type('5'))\n",
    "print(type(5 * 2))\n",
    "print(type('5' * 2))\n",
    "print(type('5' + '2'))\n",
    "print(type(5 / 2))\n",
    "print(type(5 % 2))\n",
    "print(type({5, 2, 1}))\n",
    "print(type(5 == 3))\n",
    "\n",
    "\n",
    "import math\n",
    "\n",
    "pi = math.pi\n",
    "print(type(pi))"
   ]
  },
  {
   "cell_type": "markdown",
   "id": "72ae1df3",
   "metadata": {},
   "source": [
    "### Question 2 Answer"
   ]
  },
  {
   "cell_type": "code",
   "execution_count": 5,
   "id": "47776a4f",
   "metadata": {},
   "outputs": [
    {
     "name": "stdout",
     "output_type": "stream",
     "text": [
      "34\n",
      "the substring 'ice' is present in the word\n",
      "The longest word is: Supercalifragilisticexpialidocious\n",
      "First composer: Bartok\n",
      "Last composer: Buxtehude\n"
     ]
    }
   ],
   "source": [
    "word = 'Supercalifragilisticexpialidocious'  # for answer(a)\n",
    "letter_count = len(word)\n",
    "print(letter_count)\n",
    "\n",
    "word = 'Supercalifragilisticexpialidocious'  # for answer(b)\n",
    "substring = 'ice'\n",
    "\n",
    "if substring in word:\n",
    "    print(\"the substring 'ice' is present in the word\")\n",
    "else:\n",
    "    print(\"the substring 'ice' is not present in the word\")    \n",
    "    \n",
    "# For answer(c)\n",
    "    \n",
    "word = [\"Supercalifragilisticexpialidocious\", \"Honorificabilitudinitatibus\", \"Bababadalgharaghtakamminarronnkonn\"]\n",
    "longest_word = max(word, key=len)    # key=len is used in the max() function to specify the formula based on which the maximum value should be determined.By using key=len, the max() function will compare the lengths of the words and return the word that has the maximum length. This allows us to find the longest word from a list of words without having to explicitly compute the lengths and compare them manually.\n",
    "print(\"The longest word is:\", longest_word)\n",
    "\n",
    "# For answer(d)\n",
    "\n",
    "composers = ['Berlioz', 'Borodin', 'Brian','Bartok', 'Bellini', 'Buxtehude', 'Bernstein']\n",
    "\n",
    "first_composer = min(composers)\n",
    "last_composer = max(composers)\n",
    "\n",
    "print(\"First composer:\", first_composer)\n",
    "print(\"Last composer:\", last_composer)"
   ]
  },
  {
   "cell_type": "markdown",
   "id": "ac43c6c4",
   "metadata": {},
   "source": [
    "### Question 3 Answer"
   ]
  },
  {
   "cell_type": "code",
   "execution_count": 6,
   "id": "31929dd0",
   "metadata": {},
   "outputs": [
    {
     "name": "stdout",
     "output_type": "stream",
     "text": [
      "1.7320508075688772\n"
     ]
    }
   ],
   "source": [
    "import math\n",
    "\n",
    "def triangleArea(a, b, c):\n",
    "    s = (a + b + c) / 2\n",
    "    area = math.sqrt(s * (s - a) * (s - b) * (s - c))\n",
    "    return area\n",
    "area = triangleArea(2,2,2)\n",
    "print(area)"
   ]
  },
  {
   "cell_type": "markdown",
   "id": "abd5e1b9",
   "metadata": {},
   "source": [
    "### Question 4 Answer"
   ]
  },
  {
   "cell_type": "code",
   "execution_count": 7,
   "id": "f0c920ee",
   "metadata": {},
   "outputs": [
    {
     "name": "stdout",
     "output_type": "stream",
     "text": [
      "Input the number of elements to be stored in the array:5\n",
      "Enter element - 0: 25\n",
      "Enter element - 1: 47\n",
      "Enter element - 2: 42\n",
      "Enter element - 3: 56\n",
      "Enter element - 4: 32\n",
      "The Even elements are:\n",
      "42 56 32\n",
      "The Odd elements are:\n",
      "25 47\n"
     ]
    }
   ],
   "source": [
    "def even_odd_integer():\n",
    "    num_element = int(input(\"Input the number of elements to be stored in the array:\"))\n",
    "\n",
    "    arr = []\n",
    "\n",
    "    for i in range(num_element):\n",
    "        element = int(input(\"Enter element - {}: \".format(i)))\n",
    "        arr.append(element)\n",
    "    even_arr = []\n",
    "    odd_arr = []\n",
    "\n",
    "    for num in arr:\n",
    "        if num % 2 == 0:\n",
    "            even_arr.append(num)       \n",
    "        else:\n",
    "           odd_arr.append(num) \n",
    "\n",
    "    print(\"The Even elements are:\")\n",
    "    print(*even_arr)\n",
    "\n",
    "    print(\"The Odd elements are:\")\n",
    "    print(*odd_arr)  \n",
    "\n",
    "even_odd_integer() "
   ]
  },
  {
   "cell_type": "markdown",
   "id": "a7a8133d",
   "metadata": {},
   "source": [
    "### Question 5 Answer"
   ]
  },
  {
   "cell_type": "code",
   "execution_count": 9,
   "id": "8479716d",
   "metadata": {},
   "outputs": [
    {
     "name": "stdout",
     "output_type": "stream",
     "text": [
      "True\n",
      "False\n",
      "The point (1, 1) does not lie in both rectangles.\n"
     ]
    }
   ],
   "source": [
    "def inside(x, y, x1, y1, x2, y2):                                 # answer (a)\n",
    "    if x >= x1 and x <= x2 and y >= y1 and y <= y2:\n",
    "        return True\n",
    "    else:\n",
    "        return False\n",
    "    \n",
    "rectiangle = inside(1,1,0,0,2,3)\n",
    "print(rectiangle)\n",
    "rectiangle = inside(-1,-1,0,0,2,3)\n",
    "print(rectiangle)\n",
    "\n",
    "rectangle1 = inside(1, 1, 0.3, 0.5, 1.1, 0.7)                     # answer (b)\n",
    "rectangle2 = inside(1, 1, 0.5, 0.2, 1.1, 2)\n",
    "\n",
    "if rectangle1 and rectangle2:\n",
    "    print(\"The point (1, 1) lies in both rectangles.\")\n",
    "else:\n",
    "    print(\"The point (1, 1) does not lie in both rectangles.\")"
   ]
  },
  {
   "cell_type": "markdown",
   "id": "a1b06f1f",
   "metadata": {},
   "source": [
    "### Question 6 Answer\n"
   ]
  },
  {
   "cell_type": "code",
   "execution_count": 10,
   "id": "b00b7d12",
   "metadata": {},
   "outputs": [
    {
     "name": "stdout",
     "output_type": "stream",
     "text": [
      "appyhay\n",
      "enterway\n"
     ]
    }
   ],
   "source": [
    "def pig(word):\n",
    "    word = word.lower()  # Convert the word to lowercase\n",
    "    vowels = ['a', 'e', 'i', 'o', 'u']\n",
    "    \n",
    "    if word[0] in vowels:\n",
    "        pig_word = word + 'way'\n",
    "    else:\n",
    "        pig_word = word[1:] + word[0] + 'ay'\n",
    "    \n",
    "    return pig_word\n",
    "\n",
    "print ( pig('happy'))\n",
    "print ( pig('Enter'))     "
   ]
  },
  {
   "cell_type": "markdown",
   "id": "3166d0bc",
   "metadata": {},
   "source": [
    "### Question 7 Answer\n"
   ]
  },
  {
   "cell_type": "code",
   "execution_count": 6,
   "id": "31d0d817",
   "metadata": {},
   "outputs": [
    {
     "name": "stdout",
     "output_type": "stream",
     "text": [
      "There are 15 patients of blood type A.\n",
      "There is one patient of blood type B.\n",
      "There are 13 patients of blood type AB.\n",
      "There are 15 patients of blood type O.\n",
      "There are 0 patients of blood type OO.\n"
     ]
    }
   ],
   "source": [
    "def bldcount(filename):\n",
    "    blood_count = {\n",
    "        'A': 0,\n",
    "        'B': 0,\n",
    "        'AB': 0,\n",
    "        'O': 0,\n",
    "        'OO': 0\n",
    "    }\n",
    "    \n",
    "    with open(filename, 'r') as file:\n",
    "        blood_types = file.read().split()\n",
    "        \n",
    "        for blood_type in blood_types:\n",
    "            blood_count[blood_type] += 1\n",
    "    \n",
    "    for blood_type, count in blood_count.items():\n",
    "        if count == 1:\n",
    "            print(f\"There is one patient of blood type {blood_type}.\")\n",
    "        else:\n",
    "            print(f\"There are {count} patients of blood type {blood_type}.\")\n",
    "\n",
    "bldcount('bloodtype1.txt')"
   ]
  },
  {
   "cell_type": "markdown",
   "id": "0c50c38d",
   "metadata": {},
   "source": [
    "### Question 8 Answer"
   ]
  },
  {
   "cell_type": "code",
   "execution_count": 7,
   "id": "1847b9c9",
   "metadata": {},
   "outputs": [
    {
     "name": "stdout",
     "output_type": "stream",
     "text": [
      "122.96544\n",
      "1.241401\n"
     ]
    }
   ],
   "source": [
    "def curconv(currency, amount):\n",
    "    with open('currencies.txt', 'r') as file:\n",
    "        for line in file:\n",
    "            parts = line.split()\n",
    "            if parts[0] == currency:\n",
    "                conversion_rate = float(parts[1])\n",
    "                return amount * conversion_rate\n",
    "    \n",
    "    return 'Currency not found'\n",
    "\n",
    "print(curconv('EUR', 100))\n",
    "print(curconv('JPY', 100))"
   ]
  },
  {
   "cell_type": "markdown",
   "id": "e9c579e4",
   "metadata": {},
   "source": [
    "### Question 9 Answer"
   ]
  },
  {
   "cell_type": "code",
   "execution_count": 8,
   "id": "4aec50f6",
   "metadata": {},
   "outputs": [
    {
     "ename": "TypeError",
     "evalue": "unsupported operand type(s) for +: 'int' and 'str'",
     "output_type": "error",
     "traceback": [
      "\u001b[1;31m---------------------------------------------------------------------------\u001b[0m",
      "\u001b[1;31mTypeError\u001b[0m                                 Traceback (most recent call last)",
      "Cell \u001b[1;32mIn[8], line 1\u001b[0m\n\u001b[1;32m----> 1\u001b[0m result \u001b[38;5;241m=\u001b[39m \u001b[38;5;241;43m6\u001b[39;49m\u001b[43m \u001b[49m\u001b[38;5;241;43m+\u001b[39;49m\u001b[43m \u001b[49m\u001b[38;5;124;43m'\u001b[39;49m\u001b[38;5;124;43ma\u001b[39;49m\u001b[38;5;124;43m'\u001b[39;49m                                           \u001b[38;5;66;03m# This will raise a TypeError because you are attempting to perform addition on two incompatible types (an integer and a string).\u001b[39;00m\n\u001b[0;32m      3\u001b[0m my_list \u001b[38;5;241m=\u001b[39m [\u001b[38;5;241m1\u001b[39m, \u001b[38;5;241m2\u001b[39m, \u001b[38;5;241m3\u001b[39m, \u001b[38;5;241m4\u001b[39m, \u001b[38;5;241m5\u001b[39m, \u001b[38;5;241m6\u001b[39m, \u001b[38;5;241m7\u001b[39m, \u001b[38;5;241m8\u001b[39m, \u001b[38;5;241m9\u001b[39m, \u001b[38;5;241m10\u001b[39m]\n\u001b[0;32m      4\u001b[0m item \u001b[38;5;241m=\u001b[39m my_list[\u001b[38;5;241m11\u001b[39m]                                    \u001b[38;5;66;03m# This will raise an IndexError because you are trying to access an index that is out of range for the list.\u001b[39;00m\n",
      "\u001b[1;31mTypeError\u001b[0m: unsupported operand type(s) for +: 'int' and 'str'"
     ]
    }
   ],
   "source": [
    "result = 6 + 'a'                                           # This will raise a TypeError because you are attempting to perform addition on two incompatible types (an integer and a string).\n",
    "\n",
    "my_list = [1, 2, 3, 4, 5, 6, 7, 8, 9, 10]\n",
    "item = my_list[11]                                    # This will raise an IndexError because you are trying to access an index that is out of range for the list.\n",
    "\n",
    "\n",
    "import math\n",
    "result = math.sqrt(-1.0)                  # This will raise a ValueError because the math.sqrt() function expects a non-negative number for the square root calculation.\n",
    "\n",
    "\n",
    "print(x)                 #  This will raise a NameError because the variable x has not been assigned a value or declared before using it.  \n",
    "\n",
    "file_path = \"nonexistent_file.txt\"\n",
    "with open(file_path, 'r') as file:\n",
    "    data = file.read()                    # This will raise a FileNotFoundError because the file you are trying to open does not exist in the specified location.\n"
   ]
  },
  {
   "cell_type": "markdown",
   "id": "0e53eacd",
   "metadata": {},
   "source": [
    "### Question 10 Answer"
   ]
  },
  {
   "cell_type": "code",
   "execution_count": 15,
   "id": "bdef44fc",
   "metadata": {},
   "outputs": [
    {
     "name": "stdout",
     "output_type": "stream",
     "text": [
      "[1, 1, 1, 3, 5, 1, 1, 2, 1, 0, 1, 0, 1, 2, 4, 0, 1, 2, 0, 3, 1, 0, 1, 1, 0, 0]\n",
      "[1, 0, 0, 0, 1, 0, 0, 0, 0, 0, 0, 1, 0, 0, 0, 2, 0, 0, 0, 0, 0, 0, 0, 0, 0, 0]\n"
     ]
    }
   ],
   "source": [
    "def frequencies(text):\n",
    "    letters = 'abcdefghijklmnopqrstuvwxyz'\n",
    "    freq_list = [0] * 26\n",
    "\n",
    "    for char in text.lower():\n",
    "        if char in letters:\n",
    "            index = letters.index(char)\n",
    "            freq_list[index] += 1\n",
    "\n",
    "    return freq_list\n",
    "\n",
    "print(frequencies('The quick red fox got bored and went home.'))\n",
    "print(frequencies('apple'))"
   ]
  },
  {
   "cell_type": "code",
   "execution_count": null,
   "id": "4e232fd7",
   "metadata": {},
   "outputs": [],
   "source": []
  }
 ],
 "metadata": {
  "kernelspec": {
   "display_name": "Python 3 (ipykernel)",
   "language": "python",
   "name": "python3"
  },
  "language_info": {
   "codemirror_mode": {
    "name": "ipython",
    "version": 3
   },
   "file_extension": ".py",
   "mimetype": "text/x-python",
   "name": "python",
   "nbconvert_exporter": "python",
   "pygments_lexer": "ipython3",
   "version": "3.10.9"
  }
 },
 "nbformat": 4,
 "nbformat_minor": 5
}
